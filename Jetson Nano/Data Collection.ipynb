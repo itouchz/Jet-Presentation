{
 "cells": [
  {
   "cell_type": "markdown",
   "metadata": {},
   "source": [
    "## Data Collection\n",
    "\n",
    "This file is to collect gesture dataset to train a gesture model. "
   ]
  },
  {
   "cell_type": "markdown",
   "metadata": {},
   "source": [
    "Initialize LIVE camera feed"
   ]
  },
  {
   "cell_type": "code",
   "execution_count": 1,
   "metadata": {
    "colab": {
     "referenced_widgets": [
      "7600a43eea6b47f491a597fd6a720011"
     ]
    },
    "colab_type": "code",
    "id": "Nv0HRUxbwh6I",
    "outputId": "5875f2f1-0346-443e-8062-7706828be3ce"
   },
   "outputs": [],
   "source": [
    "import traitlets\n",
    "import ipywidgets.widgets as widgets\n",
    "from IPython.display import display\n",
    "from jetbot import Camera, bgr8_to_jpeg\n",
    "from time import time\n",
    "\n",
    "camera = Camera.instance(width=512, height=512, fps=5)\n",
    "\n",
    "image = widgets.Image(format='jpeg', width=480, height=480)  # this width and height doesn't necessarily have to match the camera\n",
    "\n",
    "camera_link = traitlets.dlink((camera, 'value'), (image, 'value'), transform=bgr8_to_jpeg)"
   ]
  },
  {
   "cell_type": "markdown",
   "metadata": {},
   "source": [
    "Create directories to store data.\n",
    "The 'datasets' folder, which contain 18 sub-folders of gestures, will be created."
   ]
  },
  {
   "cell_type": "code",
   "execution_count": 2,
   "metadata": {
    "colab": {},
    "colab_type": "code",
    "id": "Ugh0iw5Xwh6P",
    "outputId": "a1ec4950-5e8b-4b26-ecf1-6ca36fb07cdd"
   },
   "outputs": [
    {
     "name": "stdout",
     "output_type": "stream",
     "text": [
      "Directories not created becasue they already exist\n"
     ]
    }
   ],
   "source": [
    "import os\n",
    "\n",
    "gestures = ['roll', 'open_two_arms', 'open_one_arm', 'point', 'list', 'clasp_hands', 'hold', \n",
    "            'cross_arms', 'hide_two_arms', 'hide_one_arm', 'stand_improperly', 'rotate_head',\n",
    "            'stand_properly', 'touch_body', 'show_small_thing', 'show_level', 'call_me', 'move']\n",
    "\n",
    "try:\n",
    "    for g in gestures:\n",
    "        os.makedirs('datasets/' + g)\n",
    "except FileExistsError:\n",
    "    print('Directories not created becasue they already exist')"
   ]
  },
  {
   "cell_type": "markdown",
   "metadata": {},
   "source": [
    "Create and display buttons that you'll use to save snapshots for each class label. You'll also add some text boxes that will display how many images of each category that we've collected so far. It helps to know how many images we've collected overall."
   ]
  },
  {
   "cell_type": "code",
   "execution_count": 3,
   "metadata": {
    "colab": {},
    "colab_type": "code",
    "id": "sjBQ7hJrwh6T"
   },
   "outputs": [],
   "source": [
    "button_layout = widgets.Layout(width='128px', height='32px')\n",
    "\n",
    "roll_button = widgets.Button(description='roll', layout=button_layout)\n",
    "roll_count = widgets.IntText(layout=button_layout, value=len(os.listdir('datasets/roll')))\n",
    "\n",
    "open_two_arms_button = widgets.Button(description='open_two_arms', layout=button_layout)\n",
    "open_two_arms_count = widgets.IntText(layout=button_layout, value=len(os.listdir('datasets/open_two_arms')))\n",
    "\n",
    "open_one_arm_button = widgets.Button(description='open_one_arm', layout=button_layout)\n",
    "open_one_arm_count = widgets.IntText(layout=button_layout, value=len(os.listdir('datasets/open_one_arm')))\n",
    "\n",
    "point_button = widgets.Button(description='point', layout=button_layout)\n",
    "point_count = widgets.IntText(layout=button_layout, value=len(os.listdir('datasets/point')))\n",
    "\n",
    "list_button = widgets.Button(description='list', layout=button_layout)\n",
    "list_count = widgets.IntText(layout=button_layout, value=len(os.listdir('datasets/list')))\n",
    "\n",
    "clasp_hands_button = widgets.Button(description='clasp_hands', layout=button_layout)\n",
    "clasp_hands_count = widgets.IntText(layout=button_layout, value=len(os.listdir('datasets/clasp_hands')))\n",
    "\n",
    "hold_button = widgets.Button(description='hold', layout=button_layout)\n",
    "hold_count = widgets.IntText(layout=button_layout, value=len(os.listdir('datasets/hold')))\n",
    "\n",
    "cross_arms_button = widgets.Button(description='cross_arms', layout=button_layout)\n",
    "cross_arms_count = widgets.IntText(layout=button_layout, value=len(os.listdir('datasets/cross_arms')))\n",
    "\n",
    "hide_two_arms_button = widgets.Button(description='hide_two_arms', layout=button_layout)\n",
    "hide_two_arms_count = widgets.IntText(layout=button_layout, value=len(os.listdir('datasets/hide_two_arms')))\n",
    "\n",
    "hide_one_arm_button = widgets.Button(description='hide_one_arm', layout=button_layout)\n",
    "hide_one_arm_count = widgets.IntText(layout=button_layout, value=len(os.listdir('datasets/hide_one_arm')))\n",
    "\n",
    "stand_improperly_button = widgets.Button(description='stand_improperly', layout=button_layout)\n",
    "stand_improperly_count = widgets.IntText(layout=button_layout, value=len(os.listdir('datasets/stand_improperly')))\n",
    "\n",
    "rotate_head_button = widgets.Button(description='rotate_head', layout=button_layout)\n",
    "rotate_head_count = widgets.IntText(layout=button_layout, value=len(os.listdir('datasets/rotate_head')))\n",
    "\n",
    "stand_properly_button = widgets.Button(description='stand_properly', layout=button_layout)\n",
    "stand_properly_count = widgets.IntText(layout=button_layout, value=len(os.listdir('datasets/stand_properly')))\n",
    "\n",
    "touch_body_button = widgets.Button(description='touch_body', layout=button_layout)\n",
    "touch_body_count = widgets.IntText(layout=button_layout, value=len(os.listdir('datasets/touch_body')))\n",
    "\n",
    "show_small_thing_button = widgets.Button(description='show_small_thing', layout=button_layout)\n",
    "show_small_thing_count = widgets.IntText(layout=button_layout, value=len(os.listdir('datasets/show_small_thing')))\n",
    "\n",
    "show_level_button = widgets.Button(description='show_level', layout=button_layout)\n",
    "show_level_count = widgets.IntText(layout=button_layout, value=len(os.listdir('datasets/show_level')))\n",
    "\n",
    "call_me_button = widgets.Button(description='call_me', layout=button_layout)\n",
    "call_me_count = widgets.IntText(layout=button_layout, value=len(os.listdir('datasets/call_me')))\n",
    "\n",
    "move_button = widgets.Button(description='move', layout=button_layout)\n",
    "move_count = widgets.IntText(layout=button_layout, value=len(os.listdir('datasets/move')))"
   ]
  },
  {
   "cell_type": "markdown",
   "metadata": {},
   "source": [
    "Attach functions to save images for each category to the buttons' on_click event. You'll save the value of the Image widget (rather than the camera), because it's already in compressed JPEG format!\n",
    "\n",
    "The uuid package in Python, which defines the uuid1 method to generate a unique identifier, is used. This unique identifier is generated from information like the current time and the machine address."
   ]
  },
  {
   "cell_type": "code",
   "execution_count": 4,
   "metadata": {
    "colab": {},
    "colab_type": "code",
    "id": "KCFbEy2zwh6X"
   },
   "outputs": [],
   "source": [
    "from uuid import uuid1\n",
    "\n",
    "def save_snapshot(directory):\n",
    "    print(directory)\n",
    "    image_path = os.path.join(directory, str(uuid1()) + '.jpg')\n",
    "    with open(image_path, 'wb') as f:\n",
    "        f.write(image.value)\n",
    "\n",
    "def save_roll():\n",
    "    global roll_count\n",
    "    save_snapshot('datasets/roll')\n",
    "    roll_count.value = len(os.listdir('datasets/roll'))\n",
    "\n",
    "def save_open_two_arms():\n",
    "    global open_two_arms_count\n",
    "    save_snapshot('datasets/open_two_arms')\n",
    "    open_two_arms_count.value = len(os.listdir('datasets/open_two_arms'))\n",
    "\n",
    "def save_open_one_arm():\n",
    "    global open_one_arm_count\n",
    "    save_snapshot('datasets/open_one_arm')\n",
    "    open_one_arm_count.value = len(os.listdir('datasets/open_one_arm'))\n",
    "\n",
    "def save_point():\n",
    "    global point_count\n",
    "    save_snapshot('datasets/point')\n",
    "    point_count.value = len(os.listdir('datasets/point'))\n",
    "\n",
    "def save_list():\n",
    "    global list_count\n",
    "    save_snapshot('datasets/list')\n",
    "    list_count.value = len(os.listdir('datasets/list'))\n",
    "\n",
    "def save_clasp_hands():\n",
    "    global clasp_hands_count\n",
    "    save_snapshot('datasets/clasp_hands')\n",
    "    clasp_hands_count.value = len(os.listdir('datasets/clasp_hands'))\n",
    "\n",
    "def save_hold():\n",
    "    global hold_count\n",
    "    save_snapshot('datasets/hold')\n",
    "    hold_count.value = len(os.listdir('datasets/hold'))\n",
    "\n",
    "def save_cross_arms():\n",
    "    global cross_arms_count\n",
    "    save_snapshot('datasets/cross_arms')\n",
    "    cross_arms_count.value = len(os.listdir('datasets/cross_arms'))\n",
    "\n",
    "def save_hide_two_arms():\n",
    "    global hide_two_arms_count\n",
    "    save_snapshot('datasets/hide_two_arms')\n",
    "    hide_two_arms_count.value = len(os.listdir('datasets/hide_two_arms'))\n",
    "\n",
    "def save_hide_one_arm():\n",
    "    global hide_one_arm_count\n",
    "    save_snapshot('datasets/hide_one_arm')\n",
    "    hide_one_arm_count.value = len(os.listdir('datasets/hide_one_arm'))\n",
    "\n",
    "def save_stand_improperly():\n",
    "    global stand_improperly_count\n",
    "    save_snapshot('datasets/stand_improperly')\n",
    "    stand_improperly_count.value = len(os.listdir('datasets/stand_improperly'))\n",
    "\n",
    "def save_rotate_head():\n",
    "    global rotate_head_count\n",
    "    save_snapshot('datasets/rotate_head')\n",
    "    rotate_head_count.value = len(os.listdir('datasets/rotate_head'))\n",
    "\n",
    "def save_stand_properly():\n",
    "    global stand_properly_count\n",
    "    save_snapshot('datasets/stand_properly')\n",
    "    stand_properly_count.value = len(os.listdir('datasets/stand_properly'))\n",
    "\n",
    "def save_touch_body():\n",
    "    global touch_body_count\n",
    "    save_snapshot('datasets/touch_body')\n",
    "    touch_body_count.value = len(os.listdir('datasets/touch_body'))\n",
    "\n",
    "def save_show_small_thing():\n",
    "    global show_small_thing_count\n",
    "    save_snapshot('datasets/show_small_thing')\n",
    "    show_small_thing_count.value = len(os.listdir('datasets/show_small_thing'))\n",
    "\n",
    "def save_show_level():\n",
    "    global show_level_count\n",
    "    save_snapshot('datasets/show_level')\n",
    "    show_level_count.value = len(os.listdir('datasets/show_level'))\n",
    "\n",
    "def save_call_me():\n",
    "    global call_me_count\n",
    "    save_snapshot('datasets/call_me')\n",
    "    call_me_count.value = len(os.listdir('datasets/call_me'))\n",
    "\n",
    "def save_move():\n",
    "    global move_count\n",
    "    save_snapshot('datasets/move')\n",
    "    move_count.value = len(os.listdir('datasets/move'))\n",
    "    \n",
    "roll_button.on_click(lambda x: save_roll())\n",
    "open_two_arms_button.on_click(lambda x: save_open_two_arms())\n",
    "open_one_arm_button.on_click(lambda x: save_open_one_arm())\n",
    "point_button.on_click(lambda x: save_point())\n",
    "list_button.on_click(lambda x: save_list())\n",
    "clasp_hands_button.on_click(lambda x: save_clasp_hands())\n",
    "hold_button.on_click(lambda x: save_hold())\n",
    "cross_arms_button.on_click(lambda x: save_cross_arms())\n",
    "hide_two_arms_button.on_click(lambda x: save_hide_two_arms())\n",
    "hide_one_arm_button.on_click(lambda x: save_hide_one_arm())\n",
    "stand_improperly_button.on_click(lambda x: save_stand_improperly())\n",
    "rotate_head_button.on_click(lambda x: save_rotate_head())\n",
    "stand_properly_button.on_click(lambda x: save_stand_properly())\n",
    "touch_body_button.on_click(lambda x: save_touch_body())\n",
    "show_small_thing_button.on_click(lambda x: save_show_small_thing())\n",
    "show_level_button.on_click(lambda x: save_show_level())\n",
    "call_me_button.on_click(lambda x: save_call_me())\n",
    "move_button.on_click(lambda x: save_move())"
   ]
  },
  {
   "cell_type": "markdown",
   "metadata": {},
   "source": [
    "Collect the data by pressing the button of the gesture you want to collect."
   ]
  },
  {
   "cell_type": "code",
   "execution_count": 5,
   "metadata": {
    "colab": {
     "referenced_widgets": [
      "7600a43eea6b47f491a597fd6a720011",
      "9bcf1d940f474ca683513905deb6c8fa",
      "51c210c5c4384ee68d7f117b6bbda1f9"
     ]
    },
    "colab_type": "code",
    "id": "DdeZjnZXwh6b",
    "outputId": "3941c157-8e6c-4c03-b107-de96b221e871"
   },
   "outputs": [
    {
     "data": {
      "application/vnd.jupyter.widget-view+json": {
       "model_id": "720450eb0f9144ecae5e4e7dfb97f6cc",
       "version_major": 2,
       "version_minor": 0
      },
      "text/plain": [
       "Image(value=b'\\xff\\xd8\\xff\\xe0\\x00\\x10JFIF\\x00\\x01\\x01\\x00\\x00\\x01\\x00\\x01\\x00\\x00\\xff\\xdb\\x00C\\x00\\x02\\x01\\x0…"
      ]
     },
     "metadata": {},
     "output_type": "display_data"
    },
    {
     "data": {
      "application/vnd.jupyter.widget-view+json": {
       "model_id": "ba5fe9e75ba44ac98f08fa837402cd89",
       "version_major": 2,
       "version_minor": 0
      },
      "text/plain": [
       "VBox(children=(HBox(children=(Button(description='roll', layout=Layout(height='32px', width='128px'), style=Bu…"
      ]
     },
     "metadata": {},
     "output_type": "display_data"
    },
    {
     "data": {
      "application/vnd.jupyter.widget-view+json": {
       "model_id": "186262a71c0e4a7885b161895a45e745",
       "version_major": 2,
       "version_minor": 0
      },
      "text/plain": [
       "VBox(children=(HBox(children=(IntText(value=210, layout=Layout(height='32px', width='128px')), IntText(value=2…"
      ]
     },
     "metadata": {},
     "output_type": "display_data"
    }
   ],
   "source": [
    "display(image)\n",
    "\n",
    "H1 = widgets.HBox([roll_button, open_two_arms_button, open_one_arm_button, point_button, list_button, clasp_hands_button])\n",
    "H2 = widgets.HBox([hold_button, cross_arms_button, hide_two_arms_button, hide_one_arm_button, stand_improperly_button, rotate_head_button])\n",
    "H3 = widgets.HBox([stand_properly_button, touch_body_button, show_small_thing_button, show_level_button, call_me_button, move_button])\n",
    "controls_box = widgets.VBox([H1, H2, H3])\n",
    "display(controls_box)\n",
    "\n",
    "H1_count = widgets.HBox([roll_count, open_two_arms_count, open_one_arm_count, point_count, list_count, clasp_hands_count])\n",
    "H2_count = widgets.HBox([hold_count, cross_arms_count, hide_two_arms_count, hide_one_arm_count, stand_improperly_count, rotate_head_count])\n",
    "H3_count = widgets.HBox([stand_properly_count, touch_body_count, show_small_thing_count, show_level_count, call_me_count, move_count])\n",
    "controls_box_count = widgets.VBox([H1_count, H2_count, H3_count])\n",
    "display(controls_box_count)"
   ]
  },
  {
   "cell_type": "markdown",
   "metadata": {
    "colab_type": "text",
    "id": "ui-VRKqlwh6e"
   },
   "source": [
    "## Next\n",
    "\n",
    "Once you've collected enough data, you'll need to copy that data to our GPU desktop or cloud machine for training.  First, we can call the following *terminal* command to compress\n",
    "your dataset folder into a single *zip* file.\n"
   ]
  },
  {
   "cell_type": "code",
   "execution_count": 6,
   "metadata": {
    "colab": {},
    "colab_type": "code",
    "id": "xq_THimxwh6e"
   },
   "outputs": [],
   "source": [
    "!zip -r -q datasets.zip datasets"
   ]
  }
 ],
 "metadata": {
  "colab": {
   "collapsed_sections": [],
   "name": "3.1 Data_collection_cones.ipynb",
   "provenance": []
  },
  "kernelspec": {
   "display_name": "Python 3",
   "language": "python",
   "name": "python3"
  },
  "language_info": {
   "codemirror_mode": {
    "name": "ipython",
    "version": 3
   },
   "file_extension": ".py",
   "mimetype": "text/x-python",
   "name": "python",
   "nbconvert_exporter": "python",
   "pygments_lexer": "ipython3",
   "version": "3.6.9"
  }
 },
 "nbformat": 4,
 "nbformat_minor": 4
}